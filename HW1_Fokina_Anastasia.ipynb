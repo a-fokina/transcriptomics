{
  "nbformat": 4,
  "nbformat_minor": 0,
  "metadata": {
    "colab": {
      "provenance": []
    },
    "kernelspec": {
      "name": "python3",
      "display_name": "Python 3"
    },
    "language_info": {
      "name": "python"
    }
  },
  "cells": [
    {
      "cell_type": "markdown",
      "source": [
        "###Домашняя работа 1. Базовая работа с прочтениями.\n",
        "##Задание\n",
        "Загрузите прочтения всех экспериментов из статьи [Evaluation of two main RNA-seq approaches for gene quantification in clinical RNA sequencing: polyA+ selection versus rRNA depletion](https://www.nature.com/articles/s41598-018-23226-4), в которой сравнивают два протокола подготовки библиотек для bulk RNA-Seq: при помощи деплеции рРНК (=total) или при помощи селекции polyA-транскриптов (=polyA+).\n",
        "\n",
        "При выполнении задания используйте Nextflow pipeline."
      ],
      "metadata": {
        "id": "v1QbPIhX-urB"
      }
    },
    {
      "cell_type": "markdown",
      "source": [
        "Загружались два прочтения:\n",
        "*  SRR6410611 SRX3503729: mRNA-seq of blood <br/>\n",
        "number of Spots: 49,997,942 <br/>\n",
        "nubmer of Bases: 7.5G <br/>\n",
        "Size: 3Gb <br/>\n",
        "Published: 2017-12-21 <br/> \n",
        "\n",
        "\n",
        "* SRR6410612 SRX3503728: mRNA-seq of blood<br/>\n",
        "number of Spots: 49,997,356<br/>\n",
        "number of Bases: 7.5G <br/>\n",
        "Size:  3Gb<br/>\n",
        "Published:2017-12-21  "
      ],
      "metadata": {
        "id": "z9L_RqELAOdp"
      }
    },
    {
      "cell_type": "code",
      "source": [
        "!./nextflow run hw1_pipeline.nf -with-report nextflow_report.html -with-dag flowchart.pdf --file SRA.txt --results_dir homework_1"
      ],
      "metadata": {
        "id": "L4AktJ5V_9Nh"
      },
      "execution_count": null,
      "outputs": []
    },
    {
      "cell_type": "markdown",
      "source": [
        "Файл SRA.txt\n",
        "```\n",
        "SRR6410611\n",
        "SRR6410612\n",
        "```"
      ],
      "metadata": {
        "id": "HvUTdzoICD6b"
      }
    },
    {
      "cell_type": "markdown",
      "source": [
        "Скрипт hw1_pipeline.nf\n",
        "```\n",
        "params.results_dir = \"results/\"\n",
        "SRA_file = new File(params.file).readLines()\n",
        "\n",
        "log.info \"List of files: ${SRA_file}\"\n",
        "log.info \"\"\n",
        "log.info \"  Q U A L I T Y   C O N T R O L  \"\n",
        "log.info \"=================================\"\n",
        "log.info \"SRA number         : ${SRA_file}\"\n",
        "log.info \"Results location   : ${params.results_dir}\"\n",
        "\n",
        "process DownloadFastQ {\n",
        "  publishDir \"${params.results_dir}\"\n",
        "\n",
        "  input:\n",
        "    val sra\n",
        "\n",
        "  output:\n",
        "    path \"${sra}/*\"\n",
        "\n",
        "  script:\n",
        "    \"\"\"\n",
        "    /content/sratoolkit.3.0.0-ubuntu64/bin/fastq-dump --gzip --split-3 ${sra} -O ${sra}/\n",
        "    \"\"\"\n",
        "}\n",
        "\n",
        "process QC {\n",
        "  input:\n",
        "    path x\n",
        "\n",
        "  output:\n",
        "    path \"qc/*\"\n",
        "\n",
        "  script:\n",
        "    \"\"\"\n",
        "    mkdir qc\n",
        "    /content/FastQC/fastqc -o qc $x\n",
        "    \"\"\"\n",
        "}\n",
        "\n",
        "process MultiQC {\n",
        "  publishDir \"${params.results_dir}\"\n",
        "\n",
        "  input:\n",
        "    path x\n",
        "\n",
        "  output:\n",
        "    path \"multiqc_report.html\"\n",
        "\n",
        "  script:\n",
        "    \"\"\"\n",
        "    multiqc $x\n",
        "    \"\"\"\n",
        "}\n",
        "\n",
        "workflow {\n",
        "  data = Channel.fromList( SRA_file )\n",
        "  DownloadFastQ(data)\n",
        "  QC( DownloadFastQ.out )\n",
        "  MultiQC( QC.out.collect() )\n",
        "}\n",
        "```"
      ],
      "metadata": {
        "id": "YsY1rGN0CEEA"
      }
    }
  ]
}